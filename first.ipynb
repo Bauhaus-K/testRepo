{
 "cells": [
  {
   "cell_type": "code",
   "execution_count": 2,
   "id": "853814a1",
   "metadata": {},
   "outputs": [
    {
     "name": "stdout",
     "output_type": "stream",
     "text": [
      "Hello World\n"
     ]
    }
   ],
   "source": [
    "print(\"Hello World\") "
   ]
  },
  {
   "cell_type": "code",
   "execution_count": 3,
   "id": "d62c6b6a",
   "metadata": {},
   "outputs": [
    {
     "name": "stdout",
     "output_type": "stream",
     "text": [
      "안녕\n"
     ]
    }
   ],
   "source": [
    "print(\"안녕\")"
   ]
  },
  {
   "cell_type": "markdown",
   "id": "2e772415",
   "metadata": {},
   "source": [
    "## 2025-09-18"
   ]
  },
  {
   "cell_type": "markdown",
   "id": "594fea84",
   "metadata": {},
   "source": [
    "### 나의 처음 코딩"
   ]
  }
 ],
 "metadata": {
  "kernelspec": {
   "display_name": "Python 3",
   "language": "python",
   "name": "python3"
  },
  "language_info": {
   "codemirror_mode": {
    "name": "ipython",
    "version": 3
   },
   "file_extension": ".py",
   "mimetype": "text/x-python",
   "name": "python",
   "nbconvert_exporter": "python",
   "pygments_lexer": "ipython3",
   "version": "3.12.1"
  }
 },
 "nbformat": 4,
 "nbformat_minor": 5
}
